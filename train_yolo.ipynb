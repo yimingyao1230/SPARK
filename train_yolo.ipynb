{
 "cells": [
  {
   "cell_type": "code",
   "execution_count": 2,
   "metadata": {},
   "outputs": [
    {
     "name": "stdout",
     "output_type": "stream",
     "text": [
      "Ultralytics 8.3.28  Python-3.10.14 torch-2.4.1 CUDA:0 (NVIDIA GeForce RTX 2080 SUPER, 8192MiB)\n",
      "Setup complete  (8 CPUs, 15.9 GB RAM, 690.5/930.3 GB disk)\n"
     ]
    }
   ],
   "source": [
    "import ultralytics\n",
    "ultralytics.checks()\n",
    "\n",
    "import os\n",
    "from ultralytics import YOLO\n",
    "import cv2"
   ]
  },
  {
   "cell_type": "markdown",
   "metadata": {},
   "source": [
    "Load Data"
   ]
  },
  {
   "cell_type": "code",
   "execution_count": null,
   "metadata": {},
   "outputs": [],
   "source": [
    "from roboflow import Roboflow\n",
    "rf = Roboflow(api_key=\"sCoQ1oYiNNK5RxMwVs72\")\n",
    "project = rf.workspace(\"project-uyrxf\").project(\"ppe_detection-v1x3l\")\n",
    "version = project.version(2)\n",
    "dataset = version.download(\"yolov11\")           "
   ]
  },
  {
   "cell_type": "markdown",
   "metadata": {},
   "source": [
    "Load Model"
   ]
  },
  {
   "cell_type": "code",
   "execution_count": 9,
   "metadata": {},
   "outputs": [
    {
     "name": "stdout",
     "output_type": "stream",
     "text": [
      "YOLO11n summary: 319 layers, 2,624,080 parameters, 0 gradients, 6.6 GFLOPs\n"
     ]
    },
    {
     "data": {
      "text/plain": [
       "(319, 2624080, 0, 6.614336)"
      ]
     },
     "execution_count": 9,
     "metadata": {},
     "output_type": "execute_result"
    }
   ],
   "source": [
    "model = YOLO(\"yolo11n.pt\")\n",
    "model.info()"
   ]
  },
  {
   "cell_type": "markdown",
   "metadata": {},
   "source": [
    "Train"
   ]
  },
  {
   "cell_type": "code",
   "execution_count": null,
   "metadata": {},
   "outputs": [],
   "source": [
    "res = model.train(data=\"C:/Users/wwr01/OneDrive/Desktop/GRAD/MIE1517/Project/PPE_Detection-2/data.yaml\", epochs=40, imgsz=640)"
   ]
  },
  {
   "cell_type": "code",
   "execution_count": 3,
   "metadata": {},
   "outputs": [
    {
     "name": "stdout",
     "output_type": "stream",
     "text": [
      "C:\\Users\\wwr01\\OneDrive\\Desktop\\GRAD\\MIE1517\\Project\\input\\test.jpg\n",
      "\n",
      "image 1/1 C:\\Users\\wwr01\\OneDrive\\Desktop\\GRAD\\MIE1517\\Project\\input\\test.jpg: 448x640 3 Protective Helmets, 3 Safety Vests, 28.9ms\n",
      "Speed: 6.0ms preprocess, 28.9ms inference, 124.7ms postprocess per image at shape (1, 3, 448, 640)\n",
      "C:\\Users\\wwr01\\OneDrive\\Desktop\\GRAD\\MIE1517\\Project\\input\\test2.jpg\n",
      "\n",
      "image 1/1 C:\\Users\\wwr01\\OneDrive\\Desktop\\GRAD\\MIE1517\\Project\\input\\test2.jpg: 384x640 2 Gloves, 42.9ms\n",
      "Speed: 2.0ms preprocess, 42.9ms inference, 1.0ms postprocess per image at shape (1, 3, 384, 640)\n",
      "Processing complete. Annotated images saved to output folder.\n"
     ]
    }
   ],
   "source": [
    "best_yolo = YOLO(\"C:/Users/wwr01/OneDrive/Desktop/GRAD/MIE1517/Project/runs/detect/train/weights/best.pt\")\n",
    "\n",
    "# Define base directory paths\n",
    "base_directory = r'C:\\Users\\wwr01\\OneDrive\\Desktop\\GRAD\\MIE1517\\Project'\n",
    "input_path = os.path.join(base_directory, 'input')\n",
    "output_path = os.path.join(base_directory, 'output')\n",
    "\n",
    "# Ensure the output directory exists\n",
    "os.makedirs(output_path, exist_ok=True)\n",
    "\n",
    "# Process each image in the input directory\n",
    "for file_name in os.listdir(input_path):\n",
    "    file_path = os.path.join(input_path, file_name)\n",
    "    print(file_path)\n",
    "\n",
    "    # Check if the file is an image by extension\n",
    "    #if file_name.lower().endswith(('.png', '.jpg', '.jpeg', '.bmp', '.gif')):\n",
    "        # Run inference\n",
    "    results = best_yolo(file_path)\n",
    "    annotated_img = results[0].plot()\n",
    "\n",
    "        # Save the annotated image to the output directory\n",
    "    cv2.imwrite(os.path.join(output_path, file_name), annotated_img)\n",
    "\n",
    "print(\"Processing complete. Annotated images saved to output folder.\")"
   ]
  }
 ],
 "metadata": {
  "kernelspec": {
   "display_name": "ece1786",
   "language": "python",
   "name": "python3"
  },
  "language_info": {
   "codemirror_mode": {
    "name": "ipython",
    "version": 3
   },
   "file_extension": ".py",
   "mimetype": "text/x-python",
   "name": "python",
   "nbconvert_exporter": "python",
   "pygments_lexer": "ipython3",
   "version": "3.10.14"
  }
 },
 "nbformat": 4,
 "nbformat_minor": 2
}
